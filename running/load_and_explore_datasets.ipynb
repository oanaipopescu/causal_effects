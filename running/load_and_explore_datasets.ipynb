{
 "cells": [
  {
   "cell_type": "code",
   "execution_count": 2,
   "id": "d3962e9e",
   "metadata": {},
   "outputs": [],
   "source": [
    "import pandas as pd\n",
    "import numpy as np\n",
    "import matplotlib.pyplot as plt\n",
    "\n",
    "import pandas as pd\n",
    "from sklearn.linear_model import LogisticRegression\n",
    "from sklearn.preprocessing import OneHotEncoder\n",
    "from sklearn.compose import ColumnTransformer\n",
    "from sklearn.pipeline import Pipeline"
   ]
  },
  {
   "cell_type": "code",
   "execution_count": 3,
   "id": "ed7cac29",
   "metadata": {},
   "outputs": [],
   "source": [
    "control_df = pd.read_csv('./../../../Datasets/UKEssen/NSCLC_Non-Pembro_GENIE_13-05-2025.csv')\n",
    "treat_df = pd.read_csv('./../../../Datasets/UKEssen/NSCLC_Pembro_MSKCHORD_13-05-2025.csv')\n"
   ]
  },
  {
   "cell_type": "code",
   "execution_count": 4,
   "id": "6119a0e7",
   "metadata": {
    "vscode": {
     "languageId": "javascript"
    }
   },
   "outputs": [],
   "source": [
    "treat_df = treat_df.rename(columns={'TTF_Pembro': 'TTF',\n",
    "    'TTF_Pembro_observed': 'TTF_observed',\n",
    "    'PFS_Pembro': 'PFS',\n",
    "    'PFS_Pembro_observed': 'PFS_observed',\n",
    "    'OS_Pembro': 'OS',\n",
    "    'OS_Pembro_observed': 'OS_observed'\n",
    "})\n",
    "merged_df = pd.concat([control_df, treat_df], ignore_index=True, sort=False)\n",
    "merged_df = merged_df.rename(columns={'ICD-O Histology Description': 'Histopathology', \n",
    "                  'History for Positive PD-L1 (NLP)':'Pos_PD-L1',\n",
    "                  'Smoking History (NLP)': 'Smoker'})\n",
    "\n",
    "merged_df = merged_df.drop('Ethnicity', axis=1)"
   ]
  },
  {
   "cell_type": "code",
   "execution_count": 5,
   "id": "302fa693",
   "metadata": {},
   "outputs": [
    {
     "name": "stdout",
     "output_type": "stream",
     "text": [
      "Adenocarcinoma, Nos\n",
      "Acinar Cell Carcinoma\n",
      "Pseudosarcomatous Carcinoma\n",
      "Carcinoma, Nos\n",
      "Solid Carcinoma, Nos\n",
      "nan\n",
      "Squamous cell\n",
      "Mucinous Adenocarcinoma\n",
      "Squamous Cell Carcinoma, Nos\n",
      "Acinar Cell Cystadenocarcinoma\n",
      "Small cell carcinoma\n",
      "Sq Cell Ca, Keratinizing Type, Nos\n",
      "Bronchiolo-Alveolar Carcinoma, Mucinous (C34._)\n",
      "Neuroendocrine Carcinoma\n",
      "Other histologies/mixed tumor\n",
      "Non-Small Cell Carcinoma (C34._)\n",
      "Giant Cell & Spindle Cell Carcinoma\n",
      "Sq Cell Ca, Large Cell, Non-Keratinizing\n",
      "Papillary Adenocarcinoma, Nos\n",
      "Bronchiolo-Alveolar Ca Mixed Muc/Non Mucinous (C34._)\n",
      "Pleomorphic Carcinoma\n",
      "Large Cell Neuroendocrine Carcinoma\n",
      "Small Cell Carcinoma, Nos\n",
      "Adenocarcinoma\n",
      "Adenocarcinoma Combined With Other Types Of Carcinoma\n",
      "Adenosquamous Carcinoma\n",
      "Carcinoma\n",
      "Mucin-Producing Adenocarinoma\n"
     ]
    }
   ],
   "source": [
    "histo = set(list(merged_df['Histopathology']))\n",
    "\n",
    "for h in histo:\n",
    "    print(h)"
   ]
  },
  {
   "cell_type": "code",
   "execution_count": 7,
   "id": "4630b7ee",
   "metadata": {},
   "outputs": [],
   "source": [
    "merged_df['Histopathology'] = merged_df['Histopathology'].replace({\n",
    "    'Squamous Cell Carcinoma, Nos': 'Squamous Cell',\n",
    "    'Small cell carcinoma': 'Small Cell Carcinoma, Nos',\n",
    "    'Carcinoma, Nos': 'Carcinoma',\n",
    "    'Papillary Adenocarcinoma, Nos': 'Adenocarcinoma',\n",
    "    'Mucin-Producing Adenocarinoma': 'Mucinous Adenocarcinoma',\n",
    "    'Bronchiolo-Alveolar Ca Mixed Muc/Non Mucinous (C34._)': 'Bronchiolo-Alveolar Carcinoma, Mucinous (C34._)',\n",
    "})"
   ]
  },
  {
   "cell_type": "code",
   "execution_count": 8,
   "id": "e201572d",
   "metadata": {},
   "outputs": [],
   "source": [
    "def group_histology(label):\n",
    "    label = str(label).lower()\n",
    "    \n",
    "    if any(sub in label for sub in [\n",
    "        'adenocarcinoma', 'acinar', 'mucin', 'bronchiolo'\n",
    "    ]):\n",
    "        return 'Adenocarcinoma'\n",
    "    \n",
    "    elif 'squamous' in label:\n",
    "        return 'Squamous_Cell_Carcinoma'\n",
    "    \n",
    "    elif 'small cell' in label:\n",
    "        return 'Small_Cell_Carcinoma'\n",
    "    \n",
    "    elif any(sub in label for sub in [\n",
    "        'pleomorphic', 'pseudosarcomatous', 'giant cell', 'solid',\n",
    "        'mixed tumor', 'non-small cell'\n",
    "    ]):\n",
    "        return 'Other'\n",
    "    \n",
    "    elif any(sub in label for sub in [\n",
    "        'neuroendocrine', 'carcinoma'\n",
    "    ]) or label == 'nan':\n",
    "        return 'Unspecified'\n",
    "    \n",
    "    else:\n",
    "        return 'Other'\n",
    "\n",
    "merged_df['Histopathology_Grouped_Type'] = merged_df['Histopathology'].apply(group_histology)\n"
   ]
  },
  {
   "cell_type": "code",
   "execution_count": 9,
   "id": "759ffbfb",
   "metadata": {},
   "outputs": [],
   "source": [
    "def group_histology_size(label):\n",
    "    label = str(label).lower()\n",
    "    \n",
    "    if 'large' in label:\n",
    "        return 'Large'\n",
    "    \n",
    "    elif 'small' in label:\n",
    "        return 'Small'\n",
    "    else:\n",
    "        return 'Other'\n",
    "\n",
    "merged_df['Histopathology_Grouped_Size'] = merged_df['Histopathology'].apply(group_histology_size)\n"
   ]
  },
  {
   "cell_type": "code",
   "execution_count": 10,
   "id": "11a339d3",
   "metadata": {},
   "outputs": [
    {
     "name": "stdout",
     "output_type": "stream",
     "text": [
      "Small\n",
      "Other\n",
      "Large\n"
     ]
    }
   ],
   "source": [
    "histo = set(list(merged_df['Histopathology_Grouped_Size']))\n",
    "\n",
    "for h in histo:\n",
    "    print(h)"
   ]
  },
  {
   "cell_type": "code",
   "execution_count": 11,
   "id": "8e056365",
   "metadata": {},
   "outputs": [
    {
     "name": "stdout",
     "output_type": "stream",
     "text": [
      "(array(['Large', 'Other', 'Small'], dtype=object), array([  15, 1380,   16]))\n",
      "(array(['Adenocarcinoma', 'Other', 'Small_Cell_Carcinoma',\n",
      "       'Squamous_Cell_Carcinoma', 'Unspecified'], dtype=object), array([1085,   49,   16,  116,  145]))\n"
     ]
    }
   ],
   "source": [
    "print(np.unique(merged_df['Histopathology_Grouped_Size'], return_counts=True))\n",
    "print(np.unique(merged_df['Histopathology_Grouped_Type'], return_counts=True))"
   ]
  },
  {
   "cell_type": "code",
   "execution_count": 12,
   "id": "9e230e3b",
   "metadata": {},
   "outputs": [],
   "source": [
    "# Apply group_tumor_site to each row in merged_df to create a new column 'Tumor_Site_Grouped'\n",
    "def get_tumor_site_group(row):\n",
    "    # Check each tumor site column for presence (value == 1 or True)\n",
    "    if row.get('TUMOR_SITE_Liver', 0) == 1 or row.get('TUMOR_SITE_Intra-Abdominal', 0) == 1 or row.get('TUMOR_SITE_Thorax', 0) == 1:\n",
    "        return 'Visceral'\n",
    "    elif row.get('TUMOR_SITE_Bone', 0) == 1:\n",
    "        return 'Skeletal'\n",
    "    elif row.get('TUMOR_SITE_CNS/Brain', 0) == 1:\n",
    "        return 'CNS'\n",
    "    else:\n",
    "        return 'Other'\n",
    "\n",
    "merged_df['Tumor_Site_Grouped'] = merged_df.apply(get_tumor_site_group, axis=1)"
   ]
  },
  {
   "cell_type": "code",
   "execution_count": 13,
   "id": "dd69b102",
   "metadata": {},
   "outputs": [],
   "source": [
    "# Apply group_tumor_site to each row in merged_df to create a new column 'Tumor_Site_Grouped'\n",
    "def get_tumor_site(row):\n",
    "    # Check each tumor site column for presence (value == 1 or True)\n",
    "    if row.get('TUMOR_SITE_Liver', 0) == 1:\n",
    "        return 'Liber'\n",
    "    elif row.get('TUMOR_SITE_Intra-Abdominal', 0) == 1:\n",
    "        return 'Abdominal'\n",
    "    elif row.get('TUMOR_SITE_Thorax', 0) == 1:\n",
    "        return 'Thorax'\n",
    "    elif row.get('TUMOR_SITE_Bone', 0) == 1:\n",
    "        return 'Skeletal'\n",
    "    elif row.get('TUMOR_SITE_CNS/Brain', 0) == 1:\n",
    "        return 'CNS'\n",
    "    else:\n",
    "        return 'Other'\n",
    "\n",
    "merged_df['Tumor_Site'] = merged_df.apply(get_tumor_site, axis=1)"
   ]
  },
  {
   "cell_type": "code",
   "execution_count": 14,
   "id": "9c9d7b58",
   "metadata": {},
   "outputs": [
    {
     "name": "stdout",
     "output_type": "stream",
     "text": [
      "(array(['CNS', 'Other', 'Skeletal', 'Visceral'], dtype=object), array([  66,  126,  111, 1108]))\n",
      "(array(['Abdominal', 'CNS', 'Liber', 'Other', 'Skeletal', 'Thorax'],\n",
      "      dtype=object), array([234,  66, 222, 126, 111, 652]))\n"
     ]
    }
   ],
   "source": [
    "print(np.unique(merged_df['Tumor_Site_Grouped'], return_counts=True))\n",
    "print(np.unique(merged_df['Tumor_Site'], return_counts=True))"
   ]
  },
  {
   "cell_type": "code",
   "execution_count": 15,
   "id": "7cf6dc3e",
   "metadata": {},
   "outputs": [],
   "source": [
    "def extract_treatments(regimen_series):\n",
    "    # Split by comma, strip whitespace, flatten, and get unique treatments\n",
    "    treatments = set()\n",
    "    for regimens in regimen_series.dropna():\n",
    "        for treatment in regimens.split(','):\n",
    "            treatments.add(treatment.strip().upper())\n",
    "    return sorted(treatments)\n",
    "\n",
    "# Get all unique treatments in both datasets\n",
    "all_treatments = set(extract_treatments(control_df['Regimen'])) | set(extract_treatments(treat_df['Regimen']))"
   ]
  },
  {
   "cell_type": "markdown",
   "id": "7f7cf403",
   "metadata": {},
   "source": [
    "| Group                        | Medications                                                                                                                                                                                                                                                         | Rationale                                   |\n",
    "| ---------------------------- | ------------------------------------------------------------------------------------------------------------------------------------------------------------------------------------------------------------------------------------------------------------------- | ------------------------------------------- |\n",
    "| **1. Chemotherapy**          | `CARBOPLATIN`, `CISPLATIN`, `OXALIPLATIN`, `DOCETAXEL`, `PACLITAXEL`, `NABPACLITAXEL`, `PACLITAXEL PROTEIN-BOUND`, `PEMETREXED`, `PEMETREXED DISODIUM`, `ETOPOSIDE`, `GEMCITABINE`, `GEMCITABINE HYDROCHLORIDE`, `VINORELBINE TARTRATE`, `FLUOROURACIL`, `THIOTEPA` | Classic cytotoxic agents                    |\n",
    "| **2. Targeted Therapy**      | `AFATINIB DIMALEATE`, `ERLOTINIB HYDROCHLORIDE`, `GEFITINIB`, `ICOTINIB`, `OSIMERTINIB`, `CRIZOTINIB`, `ALECTINIB`, `DABRAFENIB`, `TRAMETINIB`, `CABOZANTINIB SMALATE`                                                                                              | EGFR, ALK, BRAF, MEK, MET inhibitors        |\n",
    "| **3. Immunotherapy**         | `PEMBROLIZUMAB`                                                                                                                                                                                                                                                     | Anti–PD-1 checkpoint inhibitor              |\n",
    "| **4. Monoclonal Antibodies** | `CETUXIMAB`, `NECITUMUMAB`, `BEVACIZUMAB`                                                                                                                                                                                                                           | EGFR or VEGF-directed monoclonal antibodies |\n",
    "| **5. Other / Unknown**       | `INVESTIGATIONAL DRUG`, `OTHER ANTINEOPLASTIC`, `OTHER NOS`                                                                                                                                                                                                         | Non-specific or unknown category            |\n",
    "\n",
    "\n",
    "Another question: are there duplicates here? "
   ]
  },
  {
   "cell_type": "code",
   "execution_count": 16,
   "id": "7dd095ba",
   "metadata": {},
   "outputs": [],
   "source": [
    "def group_medication_coarse(med):\n",
    "\n",
    "    # this is wrong because it misses the combinations\n",
    "    med = str(med).upper()\n",
    "    \n",
    "    chemo = {\n",
    "        'CARBOPLATIN', 'CISPLATIN', 'OXALIPLATIN', 'DOCETAXEL',\n",
    "        'PACLITAXEL', 'NABPACLITAXEL', 'PACLITAXEL PROTEIN-BOUND',\n",
    "        'PEMETREXED', 'PEMETREXED DISODIUM', 'ETOPOSIDE', 'GEMCITABINE',\n",
    "        'GEMCITABINE HYDROCHLORIDE', 'VINORELBINE TARTRATE', 'FLUOROURACIL', 'THIOTEPA'\n",
    "    }\n",
    "    \n",
    "    targeted = {\n",
    "        'AFATINIB DIMALEATE', 'ERLOTINIB HYDROCHLORIDE', 'GEFITINIB', 'ICOTINIB',\n",
    "        'OSIMERTINIB', 'CRIZOTINIB', 'ALECTINIB', 'DABRAFENIB',\n",
    "        'TRAMETINIB', 'CABOZANTINIB SMALATE'\n",
    "    }\n",
    "    \n",
    "    immuno = {'PEMBROLIZUMAB'}\n",
    "    \n",
    "    antibodies = {'CETUXIMAB', 'NECITUMUMAB', 'BEVACIZUMAB'}\n",
    "    \n",
    "    other = {'INVESTIGATIONAL DRUG', 'OTHER ANTINEOPLASTIC', 'OTHER NOS'}\n",
    "    \n",
    "\n",
    "    if med in chemo:\n",
    "        return 'Chemotherapy'\n",
    "    elif med in targeted:\n",
    "        return 'Targeted Therapy'\n",
    "    elif med in immuno:\n",
    "        return 'Immunotherapy/Pembro'\n",
    "    elif med in antibodies:\n",
    "        return 'Monoclonal Antibody'\n",
    "    elif med in other:\n",
    "        return 'Other/Unknown'\n",
    "    else:\n",
    "        return 'Unclassified'\n"
   ]
  },
  {
   "cell_type": "code",
   "execution_count": 17,
   "id": "f710ee47",
   "metadata": {},
   "outputs": [],
   "source": [
    "merged_df['Regimen_Grouped'] = merged_df['Regimen'].apply(group_medication_coarse)\n"
   ]
  },
  {
   "cell_type": "code",
   "execution_count": 18,
   "id": "82533a30",
   "metadata": {},
   "outputs": [],
   "source": [
    "treatments, counts = np.unique(merged_df['Regimen'], return_counts=True)\n",
    "all_treatments = []\n",
    "\n",
    "for treatment in treatments:\n",
    "    substances = treatment.split(',')\n",
    "    for s in substances:\n",
    "        s = s.lower()\n",
    "        s = s.strip(' ')\n",
    "        all_treatments.append(s.lower())\n",
    "\n",
    "all_treatments = list(set(all_treatments))\n",
    "\n",
    "recode = dict()\n",
    "for t in all_treatments:\n",
    "    for t2 in all_treatments:\n",
    "        if t != t2:\n",
    "             if (t2 in t):\n",
    "                recode[t] = t2"
   ]
  },
  {
   "cell_type": "code",
   "execution_count": 20,
   "id": "28e0671a",
   "metadata": {},
   "outputs": [],
   "source": [
    "for i in range(len(all_treatments)):\n",
    "    if all_treatments[i] in recode.keys():\n",
    "        all_treatments[i] = recode[all_treatments[i]]"
   ]
  },
  {
   "cell_type": "code",
   "execution_count": 21,
   "id": "4e7ee5f9",
   "metadata": {},
   "outputs": [],
   "source": [
    "regimen = merged_df['Regimen'].copy().to_numpy()\n",
    "cleaned_regimen = []\n",
    "for r in regimen:\n",
    "    substances = r.split(',')\n",
    "    for i in range(len(substances)):\n",
    "        substances[i] = substances[i].strip(' ').lower()\n",
    "        # check if replacement is necessary\n",
    "        if substances[i] in recode.keys():\n",
    "            substances[i] = recode[substances[i]]\n",
    "    substances = list(set(substances))\n",
    "    cleaned_string = ', '.join(substances)\n",
    "    cleaned_regimen.append(cleaned_string)"
   ]
  },
  {
   "cell_type": "code",
   "execution_count": 22,
   "id": "131e8dcd",
   "metadata": {},
   "outputs": [],
   "source": [
    "merged_df['Cleaned_Regimen'] = cleaned_regimen"
   ]
  },
  {
   "cell_type": "code",
   "execution_count": 23,
   "id": "bc29f129",
   "metadata": {},
   "outputs": [
    {
     "name": "stdout",
     "output_type": "stream",
     "text": [
      "CARBOPLATIN, PEMBROLIZUMAB, PEMETREXED 381\n",
      "PEMBROLIZUMAB 288\n",
      "Carboplatin, Pemetrexed Disodium 143\n",
      "Erlotinib Hydrochloride 82\n",
      "Bevacizumab, Carboplatin, Pemetrexed Disodium 63\n",
      "Cisplatin, Pemetrexed Disodium 45\n",
      "CARBOPLATIN, PACLITAXEL, PEMBROLIZUMAB 41\n",
      "Investigational Drug, Investigational Drug 36\n",
      "CISPLATIN, PEMBROLIZUMAB, PEMETREXED 35\n",
      "Bevacizumab, Cisplatin, Pemetrexed Disodium 31\n",
      "CARBOPLATIN, PACLITAXEL PROTEIN-BOUND, PEMBROLIZUMAB 31\n",
      "Investigational Drug 30\n",
      "Carboplatin, Paclitaxel 27\n",
      "Crizotinib 23\n",
      "PEMBROLIZUMAB, PEMETREXED 15\n",
      "Carboplatin, Gemcitabine Hydrochloride 12\n",
      "Bevacizumab, Carboplatin, Paclitaxel 11\n",
      "Afatinib Dimaleate 11\n",
      "Carboplatin, Nabpaclitaxel 9\n",
      "Osimertinib 8\n",
      "Cisplatin, Gemcitabine Hydrochloride 7\n",
      "Gemcitabine Hydrochloride, Vinorelbine Tartrate 4\n",
      "Cisplatin, Docetaxel 4\n",
      "Cisplatin, Investigational Drug, Pemetrexed Disodium 4\n",
      "Cisplatin, Etoposide 4\n",
      "Carboplatin, Docetaxel 3\n",
      "Carboplatin, Investigational Drug, Pemetrexed Disodium 3\n",
      "Pemetrexed Disodium 3\n",
      "Alectinib 3\n",
      "Vinorelbine Tartrate 3\n",
      "Cisplatin, Vinorelbine Tartrate 3\n",
      "Gefitinib 3\n",
      "CARBOPLATIN, PACLITAXEL, PACLITAXEL PROTEIN-BOUND, PEMBROLIZUMAB 2\n",
      "Paclitaxel, Pemetrexed Disodium 2\n",
      "Other antineoplastic 2\n",
      "Dabrafenib, Trametinib 2\n",
      "CARBOPLATIN, CISPLATIN, PEMBROLIZUMAB, PEMETREXED 2\n",
      "Bevacizumab, Paclitaxel, Pemetrexed Disodium 2\n",
      "Carboplatin, Etoposide 2\n",
      "Bevacizumab, Nabpaclitaxel, Pemetrexed Disodium 1\n",
      "CARBOPLATIN, DABRAFENIB, PEMBROLIZUMAB, PEMETREXED, TRAMETINIB 1\n",
      "CARBOPLATIN, CRIZOTINIB, PEMBROLIZUMAB, PEMETREXED 1\n",
      "Bevacizumab, Pemetrexed Disodium 1\n",
      "Cisplatin, Gemcitabine Hydrochloride, Necitumumab 1\n",
      "Bevacizumab, Icotinib, Other antineoplastic, Pemetrexed Disodium 1\n",
      "Gemcitabine Hydrochloride, Nabpaclitaxel 1\n",
      "Gemcitabine Hydrochloride, Pemetrexed Disodium 1\n",
      "Investigational Drug, Investigational Drug, Investigational Drug 1\n",
      "Other NOS 1\n",
      "BEVACIZUMAB, CARBOPLATIN, PEMBROLIZUMAB, PEMETREXED 1\n",
      "Alectinib, Bevacizumab 1\n",
      "Bevacizumab, Erlotinib Hydrochloride 1\n",
      "Gemcitabine Hydrochloride, Investigational Drug 1\n",
      "CARBOPLATIN, PACLITAXEL PROTEIN-BOUND, PEMBROLIZUMAB, PEMETREXED 1\n",
      "Carboplatin, Gemcitabine Hydrochloride, Paclitaxel 1\n",
      "Cetuximab, Cisplatin, Gemcitabine Hydrochloride 1\n",
      "DABRAFENIB, PEMBROLIZUMAB 1\n",
      "Docetaxel 1\n",
      "Carboplatin, Investigational Drug, Paclitaxel 1\n",
      "Carboplatin, Investigational Drug, Investigational Drug, Pemetrexed Disodium 1\n",
      "Carboplatin, Investigational Drug 1\n",
      "FLUOROURACIL, OXALIPLATIN, PEMBROLIZUMAB 1\n",
      "Cisplatin, Paclitaxel 1\n",
      "GEMCITABINE, PEMBROLIZUMAB, PEMETREXED 1\n",
      "Carboplatin, Crizotinib, Paclitaxel 1\n",
      "Cabozantinib Smalate 1\n",
      "CARBOPLATIN, PEMBROLIZUMAB, PEMETREXED, TRAMETINIB 1\n",
      "Gefitinib, Osimertinib 1\n",
      "CARBOPLATIN, PEMBROLIZUMAB 1\n"
     ]
    }
   ],
   "source": [
    "sorted_indices = np.argsort(counts)\n",
    "for i in range (len(sorted_indices) - 1, 0, -1):\n",
    "    idx = sorted_indices[i]\n",
    "    print(treatments[idx], counts[idx])"
   ]
  },
  {
   "cell_type": "code",
   "execution_count": 24,
   "id": "c0f41e20",
   "metadata": {},
   "outputs": [
    {
     "name": "stdout",
     "output_type": "stream",
     "text": [
      "carboplatin, pemetrexed, pembrolizumab 381\n",
      "pembrolizumab 288\n",
      "carboplatin, pemetrexed 143\n",
      "erlotinib hydrochloride 82\n",
      "carboplatin, pembrolizumab, paclitaxel 74\n",
      "investigational drug 67\n",
      "carboplatin, bevacizumab, pemetrexed 63\n",
      "pemetrexed, cisplatin 45\n",
      "carboplatin, paclitaxel 36\n",
      "pembrolizumab, pemetrexed, cisplatin 35\n",
      "pemetrexed, bevacizumab, cisplatin 31\n",
      "crizotinib 23\n",
      "pemetrexed, pembrolizumab 15\n",
      "carboplatin, gemcitabine 12\n",
      "carboplatin, bevacizumab, paclitaxel 11\n",
      "afatinib dimaleate 11\n",
      "osimertinib 8\n",
      "gemcitabine, cisplatin 7\n",
      "carboplatin, investigational drug, pemetrexed 4\n",
      "gemcitabine, vinorelbine tartrate 4\n",
      "etoposide, cisplatin 4\n",
      "docetaxel, cisplatin 4\n",
      "pemetrexed, investigational drug, cisplatin 4\n",
      "vinorelbine tartrate 3\n",
      "carboplatin, docetaxel 3\n",
      "alectinib 3\n",
      "pemetrexed, bevacizumab, paclitaxel 3\n",
      "gefitinib 3\n",
      "pemetrexed 3\n",
      "cisplatin, vinorelbine tartrate 3\n",
      "other antineoplastic 2\n",
      "pembrolizumab, carboplatin, pemetrexed, cisplatin 2\n",
      "pemetrexed, paclitaxel 2\n",
      "dabrafenib, trametinib 2\n",
      "carboplatin, etoposide 2\n",
      "carboplatin, investigational drug 1\n",
      "carboplatin, gemcitabine, paclitaxel 1\n",
      "pemetrexed, icotinib, other antineoplastic, bevacizumab 1\n",
      "carboplatin, bevacizumab, pembrolizumab, pemetrexed 1\n",
      "carboplatin, crizotinib, paclitaxel 1\n",
      "pemetrexed, gemcitabine, pembrolizumab 1\n",
      "cabozantinib smalate 1\n",
      "bevacizumab, erlotinib hydrochloride 1\n",
      "alectinib, pembrolizumab, paclitaxel, carboplatin, thiotepa 1\n",
      "alectinib, bevacizumab 1\n",
      "carboplatin, investigational drug, paclitaxel 1\n",
      "gemcitabine, paclitaxel 1\n",
      "pemetrexed, gemcitabine 1\n",
      "carboplatin, pembrolizumab 1\n",
      "gemcitabine, investigational drug 1\n",
      "carboplatin, pemetrexed, pembrolizumab, paclitaxel 1\n",
      "carboplatin, pemetrexed, pembrolizumab, trametinib 1\n",
      "cisplatin, paclitaxel 1\n",
      "pembrolizumab, carboplatin, pemetrexed, crizotinib 1\n",
      "dabrafenib, pembrolizumab 1\n",
      "dabrafenib, pembrolizumab, pemetrexed, carboplatin, trametinib 1\n",
      "docetaxel 1\n",
      "other nos 1\n",
      "fluorouracil, oxaliplatin, pembrolizumab 1\n",
      "gefitinib, osimertinib 1\n",
      "gemcitabine, cetuximab, cisplatin 1\n",
      "necitumumab, gemcitabine, cisplatin 1\n"
     ]
    }
   ],
   "source": [
    "cleaned_treat, cleaned_counts = np.unique(merged_df['Cleaned_Regimen'], return_counts=True)\n",
    "sorted_cleaned_indices = np.argsort(cleaned_counts)\n",
    "for i in range (len(sorted_cleaned_indices) - 1, 0, -1):\n",
    "    idx = sorted_cleaned_indices[i]\n",
    "    print(cleaned_treat[idx], cleaned_counts[idx])"
   ]
  },
  {
   "cell_type": "code",
   "execution_count": 32,
   "id": "855c32bc",
   "metadata": {},
   "outputs": [],
   "source": [
    "race_replacement = {'asian-far east/indian subcont': 'POC', \n",
    "                    'american indian, aleutian, or eskimo': 'POC', \n",
    "                    'asian-far east/indian subcont': 'POC',\n",
    "                    'chinese': 'POC',\n",
    "                     'native hawaiian or pacific isl':'POC',\n",
    "                     'no value entered': 'NA',\n",
    "                     'other': 'NA',\n",
    "                     'other asian': 'POC',\n",
    "                     'pt refused to answer': 'NA',\n",
    "                     'black': 'POC',\n",
    "                     'black or african american': 'POC',\n",
    "                     'unknown': 'NA'}\n",
    "\n",
    "merged_df['Grouped_Race'] = merged_df['Race'].copy()\n",
    "merged_df['Grouped_Race'] = [r.lower() for r in merged_df['Race']]\n",
    "merged_df['Grouped_Race'] = merged_df['Grouped_Race'].replace(race_replacement)"
   ]
  },
  {
   "cell_type": "code",
   "execution_count": 33,
   "id": "633bd549",
   "metadata": {},
   "outputs": [
    {
     "name": "stdout",
     "output_type": "stream",
     "text": [
      "(array(['ASIAN-FAR EAST/INDIAN SUBCONT',\n",
      "       'American Indian, Aleutian, or Eskimo',\n",
      "       'BLACK OR AFRICAN AMERICAN', 'Black', 'Chinese',\n",
      "       'NATIVE HAWAIIAN OR PACIFIC ISL', 'NO VALUE ENTERED', 'OTHER',\n",
      "       'Other', 'Other Asian', 'PT REFUSED TO ANSWER', 'UNKNOWN',\n",
      "       'Unknown', 'WHITE', 'White'], dtype=object), array([ 65,   1,  45,  36,  44,   1,   1,  22,  14,  17,   8,  13,  25,\n",
      "       650, 469]))\n",
      "(array(['NA', 'POC', 'white'], dtype=object), array([  83,  209, 1119]))\n"
     ]
    }
   ],
   "source": [
    "print(np.unique(merged_df['Race'], return_counts=True))\n",
    "print(np.unique(merged_df['Grouped_Race'], return_counts=True))\n",
    "\n"
   ]
  },
  {
   "cell_type": "code",
   "execution_count": 36,
   "id": "212be2ac",
   "metadata": {},
   "outputs": [],
   "source": [
    "merged_df['Sex'] = [s.lower() for s in merged_df['Sex']]"
   ]
  },
  {
   "cell_type": "code",
   "execution_count": 38,
   "id": "6415bb2d",
   "metadata": {},
   "outputs": [
    {
     "name": "stderr",
     "output_type": "stream",
     "text": [
      "/opt/anaconda3/envs/tigramite/lib/python3.10/site-packages/sklearn/linear_model/_linear_loss.py:203: RuntimeWarning: divide by zero encountered in matmul\n",
      "  raw_prediction = X @ weights.T + intercept  # ndarray, likely C-contiguous\n",
      "/opt/anaconda3/envs/tigramite/lib/python3.10/site-packages/sklearn/linear_model/_linear_loss.py:203: RuntimeWarning: overflow encountered in matmul\n",
      "  raw_prediction = X @ weights.T + intercept  # ndarray, likely C-contiguous\n",
      "/opt/anaconda3/envs/tigramite/lib/python3.10/site-packages/sklearn/linear_model/_linear_loss.py:203: RuntimeWarning: invalid value encountered in matmul\n",
      "  raw_prediction = X @ weights.T + intercept  # ndarray, likely C-contiguous\n",
      "/opt/anaconda3/envs/tigramite/lib/python3.10/site-packages/sklearn/linear_model/_linear_loss.py:336: RuntimeWarning: divide by zero encountered in matmul\n",
      "  grad[:, :n_features] = grad_pointwise.T @ X + l2_reg_strength * weights\n",
      "/opt/anaconda3/envs/tigramite/lib/python3.10/site-packages/sklearn/linear_model/_linear_loss.py:336: RuntimeWarning: overflow encountered in matmul\n",
      "  grad[:, :n_features] = grad_pointwise.T @ X + l2_reg_strength * weights\n",
      "/opt/anaconda3/envs/tigramite/lib/python3.10/site-packages/sklearn/linear_model/_linear_loss.py:336: RuntimeWarning: invalid value encountered in matmul\n",
      "  grad[:, :n_features] = grad_pointwise.T @ X + l2_reg_strength * weights\n",
      "/opt/anaconda3/envs/tigramite/lib/python3.10/site-packages/sklearn/linear_model/_logistic.py:465: ConvergenceWarning: lbfgs failed to converge (status=1):\n",
      "STOP: TOTAL NO. OF ITERATIONS REACHED LIMIT.\n",
      "\n",
      "Increase the number of iterations (max_iter) or scale the data as shown in:\n",
      "    https://scikit-learn.org/stable/modules/preprocessing.html\n",
      "Please also refer to the documentation for alternative solver options:\n",
      "    https://scikit-learn.org/stable/modules/linear_model.html#logistic-regression\n",
      "  n_iter_i = _check_optimize_result(\n",
      "/opt/anaconda3/envs/tigramite/lib/python3.10/site-packages/sklearn/utils/extmath.py:203: RuntimeWarning: divide by zero encountered in matmul\n",
      "  ret = a @ b\n",
      "/opt/anaconda3/envs/tigramite/lib/python3.10/site-packages/sklearn/utils/extmath.py:203: RuntimeWarning: overflow encountered in matmul\n",
      "  ret = a @ b\n",
      "/opt/anaconda3/envs/tigramite/lib/python3.10/site-packages/sklearn/utils/extmath.py:203: RuntimeWarning: invalid value encountered in matmul\n",
      "  ret = a @ b\n"
     ]
    }
   ],
   "source": [
    "\n",
    "# Step 1: Define covariates and treatment\n",
    "covariate_cols = ['Current Age', 'Sex', 'Grouped_Race'] \n",
    "categorical_cols = ['Sex', 'Grouped_Race']  # columns to one-hot encode\n",
    "numeric_cols = list(set(covariate_cols) - set(categorical_cols))\n",
    "\n",
    "X = merged_df[covariate_cols]\n",
    "T = merged_df['Cleaned_Regimen']\n",
    "\n",
    "# Step 2: Create preprocessing pipeline\n",
    "preprocessor = ColumnTransformer(\n",
    "    transformers=[\n",
    "        ('cat', OneHotEncoder(drop='first'), categorical_cols),\n",
    "        ('num', 'passthrough', numeric_cols)\n",
    "    ]\n",
    ")\n",
    "\n",
    "# Step 3: Fit logistic regression pipeline\n",
    "pipeline = Pipeline(steps=[\n",
    "    ('preprocessor', preprocessor),\n",
    "    ('logreg', LogisticRegression(max_iter=1000))\n",
    "])\n",
    "\n",
    "pipeline.fit(X, T)\n",
    "\n",
    "# Step 4: Predict propensity scores\n",
    "merged_df['propensity_score'] = pipeline.predict_proba(X)[:, 1]"
   ]
  },
  {
   "cell_type": "code",
   "execution_count": 39,
   "id": "2fb78622",
   "metadata": {},
   "outputs": [
    {
     "data": {
      "text/plain": [
       "array(['afatinib dimaleate', 'alectinib', 'alectinib, bevacizumab',\n",
       "       'alectinib, pembrolizumab, paclitaxel, carboplatin, thiotepa',\n",
       "       'bevacizumab, erlotinib hydrochloride', 'cabozantinib smalate',\n",
       "       'carboplatin, bevacizumab, paclitaxel',\n",
       "       'carboplatin, bevacizumab, pembrolizumab, pemetrexed',\n",
       "       'carboplatin, bevacizumab, pemetrexed',\n",
       "       'carboplatin, crizotinib, paclitaxel', 'carboplatin, docetaxel',\n",
       "       'carboplatin, etoposide', 'carboplatin, gemcitabine',\n",
       "       'carboplatin, gemcitabine, paclitaxel',\n",
       "       'carboplatin, investigational drug',\n",
       "       'carboplatin, investigational drug, paclitaxel',\n",
       "       'carboplatin, investigational drug, pemetrexed',\n",
       "       'carboplatin, paclitaxel', 'carboplatin, pembrolizumab',\n",
       "       'carboplatin, pembrolizumab, paclitaxel',\n",
       "       'carboplatin, pemetrexed',\n",
       "       'carboplatin, pemetrexed, pembrolizumab',\n",
       "       'carboplatin, pemetrexed, pembrolizumab, paclitaxel',\n",
       "       'carboplatin, pemetrexed, pembrolizumab, trametinib',\n",
       "       'cisplatin, paclitaxel', 'cisplatin, vinorelbine tartrate',\n",
       "       'crizotinib', 'dabrafenib, pembrolizumab',\n",
       "       'dabrafenib, pembrolizumab, pemetrexed, carboplatin, trametinib',\n",
       "       'dabrafenib, trametinib', 'docetaxel', 'docetaxel, cisplatin',\n",
       "       'erlotinib hydrochloride', 'etoposide, cisplatin',\n",
       "       'fluorouracil, oxaliplatin, pembrolizumab', 'gefitinib',\n",
       "       'gefitinib, osimertinib', 'gemcitabine, cetuximab, cisplatin',\n",
       "       'gemcitabine, cisplatin', 'gemcitabine, investigational drug',\n",
       "       'gemcitabine, paclitaxel', 'gemcitabine, vinorelbine tartrate',\n",
       "       'investigational drug', 'necitumumab, gemcitabine, cisplatin',\n",
       "       'osimertinib', 'other antineoplastic', 'other nos',\n",
       "       'pembrolizumab',\n",
       "       'pembrolizumab, carboplatin, pemetrexed, cisplatin',\n",
       "       'pembrolizumab, carboplatin, pemetrexed, crizotinib',\n",
       "       'pembrolizumab, pemetrexed, cisplatin', 'pemetrexed',\n",
       "       'pemetrexed, bevacizumab', 'pemetrexed, bevacizumab, cisplatin',\n",
       "       'pemetrexed, bevacizumab, paclitaxel', 'pemetrexed, cisplatin',\n",
       "       'pemetrexed, gemcitabine',\n",
       "       'pemetrexed, gemcitabine, pembrolizumab',\n",
       "       'pemetrexed, icotinib, other antineoplastic, bevacizumab',\n",
       "       'pemetrexed, investigational drug, cisplatin',\n",
       "       'pemetrexed, paclitaxel', 'pemetrexed, pembrolizumab',\n",
       "       'vinorelbine tartrate'], dtype=object)"
      ]
     },
     "execution_count": 39,
     "metadata": {},
     "output_type": "execute_result"
    }
   ],
   "source": [
    "np.unique(merged_df['Cleaned_Regimen'])"
   ]
  },
  {
   "cell_type": "code",
   "execution_count": 40,
   "id": "03a0c145",
   "metadata": {},
   "outputs": [
    {
     "data": {
      "text/plain": [
       "606     0.007223\n",
       "646     0.001080\n",
       "667     0.001295\n",
       "668     0.008853\n",
       "675     0.001469\n",
       "          ...   \n",
       "1406    0.002316\n",
       "1407    0.002960\n",
       "1408    0.000631\n",
       "1409    0.001077\n",
       "1410    0.000855\n",
       "Name: propensity_score, Length: 381, dtype: float64"
      ]
     },
     "execution_count": 40,
     "metadata": {},
     "output_type": "execute_result"
    }
   ],
   "source": [
    "merged_df[merged_df['Cleaned_Regimen'] == 'carboplatin, pemetrexed, pembrolizumab']['propensity_score']"
   ]
  },
  {
   "cell_type": "code",
   "execution_count": 41,
   "id": "38a799cd",
   "metadata": {},
   "outputs": [
    {
     "data": {
      "image/png": "[encoded data removed]",
      "text/plain": [
       "<Figure size 640x480 with 1 Axes>"
      ]
     },
     "metadata": {},
     "output_type": "display_data"
    }
   ],
   "source": [
    "import matplotlib.pyplot as plt\n",
    "import seaborn as sns\n",
    "\n",
    "sns.histplot(merged_df[merged_df['Cleaned_Regimen'] == 'carboplatin, pemetrexed, pembrolizumab']['propensity_score'], color='blue', label='Chemo', kde=True)\n",
    "sns.histplot(merged_df[merged_df['Cleaned_Regimen'] == 'carboplatin, pemetrexed']['propensity_score'], color='red', label='Pembro', kde=True)\n",
    "plt.title(\"Propensity Score Distribution by Treatment Group\")\n",
    "plt.xlabel(\"Propensity Score\")\n",
    "plt.ylabel(\"Count\")\n",
    "plt.legend()\n",
    "plt.show()\n"
   ]
  }
 ],
 "metadata": {
  "kernelspec": {
   "display_name": "tigramite",
   "language": "python",
   "name": "python3"
  },
  "language_info": {
   "codemirror_mode": {
    "name": "ipython",
    "version": 3
   },
   "file_extension": ".py",
   "mimetype": "text/x-python",
   "name": "python",
   "nbconvert_exporter": "python",
   "pygments_lexer": "ipython3",
   "version": "3.10.16"
  }
 },
 "nbformat": 4,
 "nbformat_minor": 5
}
