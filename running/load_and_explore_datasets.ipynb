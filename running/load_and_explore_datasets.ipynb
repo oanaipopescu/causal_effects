{
 "cells": [
  {
   "cell_type": "code",
   "execution_count": 1,
   "id": "d3962e9e",
   "metadata": {},
   "outputs": [],
   "source": [
    "import pandas as pd\n",
    "import numpy as np\n",
    "import matplotlib.pyplot as plt\n",
    "\n",
    "import pandas as pd\n",
    "from sklearn.linear_model import LogisticRegression\n",
    "from sklearn.preprocessing import OneHotEncoder\n",
    "from sklearn.compose import ColumnTransformer\n",
    "from sklearn.pipeline import Pipeline"
   ]
  },
  {
   "cell_type": "code",
   "execution_count": 2,
   "id": "ed7cac29",
   "metadata": {},
   "outputs": [],
   "source": [
    "control_df = pd.read_csv('./../../../Datasets/UKEssen/NSCLC_Non-Pembro_GENIE_13-05-2025.csv')\n",
    "treat_df = pd.read_csv('./../../../Datasets/UKEssen/NSCLC_Pembro_MSKCHORD_13-05-2025.csv')\n"
   ]
  },
  {
   "cell_type": "code",
   "execution_count": 3,
   "id": "6119a0e7",
   "metadata": {
    "vscode": {
     "languageId": "javascript"
    }
   },
   "outputs": [],
   "source": [
    "treat_df = treat_df.rename(columns={'TTF_Pembro': 'TTF',\n",
    "    'TTF_Pembro_observed': 'TTF_observed',\n",
    "    'PFS_Pembro': 'PFS',\n",
    "    'PFS_Pembro_observed': 'PFS_observed',\n",
    "    'OS_Pembro': 'OS',\n",
    "    'OS_Pembro_observed': 'OS_observed'\n",
    "})\n",
    "merged_df = pd.concat([control_df, treat_df], ignore_index=True, sort=False)\n",
    "merged_df = merged_df.rename(columns={'ICD-O Histology Description': 'Histopathology', \n",
    "                  'History for Positive PD-L1 (NLP)':'Pos_PD-L1',\n",
    "                  'Smoking History (NLP)': 'Smoker'})\n",
    "\n",
    "merged_df = merged_df.drop('Ethnicity', axis=1)"
   ]
  },
  {
   "cell_type": "code",
   "execution_count": 4,
   "id": "302fa693",
   "metadata": {},
   "outputs": [
    {
     "name": "stdout",
     "output_type": "stream",
     "text": [
      "Other histologies/mixed tumor\n",
      "nan\n",
      "Adenocarcinoma Combined With Other Types Of Carcinoma\n",
      "Acinar Cell Carcinoma\n",
      "Adenocarcinoma, Nos\n",
      "Acinar Cell Cystadenocarcinoma\n",
      "Solid Carcinoma, Nos\n",
      "Adenosquamous Carcinoma\n",
      "Bronchiolo-Alveolar Ca Mixed Muc/Non Mucinous (C34._)\n",
      "Sq Cell Ca, Large Cell, Non-Keratinizing\n",
      "Squamous Cell Carcinoma, Nos\n",
      "Large Cell Neuroendocrine Carcinoma\n",
      "Mucinous Adenocarcinoma\n",
      "Giant Cell & Spindle Cell Carcinoma\n",
      "Pleomorphic Carcinoma\n",
      "Non-Small Cell Carcinoma (C34._)\n",
      "Sq Cell Ca, Keratinizing Type, Nos\n",
      "Mucin-Producing Adenocarinoma\n",
      "Carcinoma, Nos\n",
      "Neuroendocrine Carcinoma\n",
      "Bronchiolo-Alveolar Carcinoma, Mucinous (C34._)\n",
      "Small cell carcinoma\n",
      "Small Cell Carcinoma, Nos\n",
      "Adenocarcinoma\n",
      "Carcinoma\n",
      "Papillary Adenocarcinoma, Nos\n",
      "Pseudosarcomatous Carcinoma\n",
      "Squamous cell\n"
     ]
    }
   ],
   "source": [
    "histo = set(list(merged_df['Histopathology']))\n",
    "\n",
    "for h in histo:\n",
    "    print(h)"
   ]
  },
  {
   "cell_type": "code",
   "execution_count": 5,
   "id": "4630b7ee",
   "metadata": {},
   "outputs": [],
   "source": [
    "merged_df['Histopathology'] = merged_df['Histopathology'].replace({\n",
    "    'Squamous Cell Carcinoma, Nos': 'Squamous Cell',\n",
    "    'Small cell carcinoma': 'Small Cell Carcinoma, Nos',\n",
    "    'Carcinoma, Nos': 'Carcinoma',\n",
    "    'Papillary Adenocarcinoma, Nos': 'Adenocarcinoma',\n",
    "    'Mucin-Producing Adenocarinoma': 'Mucinous Adenocarcinoma',\n",
    "    'Bronchiolo-Alveolar Ca Mixed Muc/Non Mucinous (C34._)': 'Bronchiolo-Alveolar Carcinoma, Mucinous (C34._)',\n",
    "})"
   ]
  },
  {
   "cell_type": "code",
   "execution_count": 6,
   "id": "e201572d",
   "metadata": {},
   "outputs": [],
   "source": [
    "def group_histology(label):\n",
    "    label = str(label).lower()\n",
    "    \n",
    "    if any(sub in label for sub in [\n",
    "        'adenocarcinoma', 'acinar', 'mucin', 'bronchiolo'\n",
    "    ]):\n",
    "        return 'Adenocarcinoma'\n",
    "    \n",
    "    elif 'squamous' in label:\n",
    "        return 'Squamous_Cell_Carcinoma'\n",
    "    \n",
    "    elif 'small cell' in label:\n",
    "        return 'Small_Cell_Carcinoma'\n",
    "    \n",
    "    elif any(sub in label for sub in [\n",
    "        'pleomorphic', 'pseudosarcomatous', 'giant cell', 'solid',\n",
    "        'mixed tumor', 'non-small cell'\n",
    "    ]):\n",
    "        return 'Other'\n",
    "    \n",
    "    elif any(sub in label for sub in [\n",
    "        'neuroendocrine', 'carcinoma'\n",
    "    ]) or label == 'nan':\n",
    "        return 'Unspecified'\n",
    "    \n",
    "    else:\n",
    "        return 'Other'\n",
    "\n",
    "merged_df['Histopathology_Grouped_Type'] = merged_df['Histopathology'].apply(group_histology)\n"
   ]
  },
  {
   "cell_type": "code",
   "execution_count": 7,
   "id": "759ffbfb",
   "metadata": {},
   "outputs": [],
   "source": [
    "def group_histology_size(label):\n",
    "    label = str(label).lower()\n",
    "    \n",
    "    if 'large' in label:\n",
    "        return 'Large'\n",
    "    \n",
    "    elif 'small' in label:\n",
    "        return 'Small'\n",
    "    else:\n",
    "        return 'Other'\n",
    "\n",
    "merged_df['Histopathology_Grouped_Size'] = merged_df['Histopathology'].apply(group_histology_size)\n"
   ]
  },
  {
   "cell_type": "code",
   "execution_count": 8,
   "id": "11a339d3",
   "metadata": {},
   "outputs": [
    {
     "name": "stdout",
     "output_type": "stream",
     "text": [
      "Small\n",
      "Large\n",
      "Other\n"
     ]
    }
   ],
   "source": [
    "histo = set(list(merged_df['Histopathology_Grouped_Size']))\n",
    "\n",
    "for h in histo:\n",
    "    print(h)"
   ]
  },
  {
   "cell_type": "code",
   "execution_count": 9,
   "id": "8e056365",
   "metadata": {},
   "outputs": [
    {
     "name": "stdout",
     "output_type": "stream",
     "text": [
      "(array(['Large', 'Other', 'Small'], dtype=object), array([  15, 1380,   16]))\n",
      "(array(['Adenocarcinoma', 'Other', 'Small_Cell_Carcinoma',\n",
      "       'Squamous_Cell_Carcinoma', 'Unspecified'], dtype=object), array([1085,   49,   16,  116,  145]))\n"
     ]
    }
   ],
   "source": [
    "print(np.unique(merged_df['Histopathology_Grouped_Size'], return_counts=True))\n",
    "print(np.unique(merged_df['Histopathology_Grouped_Type'], return_counts=True))"
   ]
  },
  {
   "cell_type": "code",
   "execution_count": 10,
   "id": "9e230e3b",
   "metadata": {},
   "outputs": [],
   "source": [
    "# Apply group_tumor_site to each row in merged_df to create a new column 'Tumor_Site_Grouped'\n",
    "def get_tumor_site_group(row):\n",
    "    # Check each tumor site column for presence (value == 1 or True)\n",
    "    if row.get('TUMOR_SITE_Liver', 0) == 1 or row.get('TUMOR_SITE_Intra-Abdominal', 0) == 1 or row.get('TUMOR_SITE_Thorax', 0) == 1:\n",
    "        return 'Visceral'\n",
    "    elif row.get('TUMOR_SITE_Bone', 0) == 1:\n",
    "        return 'Skeletal'\n",
    "    elif row.get('TUMOR_SITE_CNS/Brain', 0) == 1:\n",
    "        return 'CNS'\n",
    "    else:\n",
    "        return 'Other'\n",
    "\n",
    "merged_df['Tumor_Site_Grouped'] = merged_df.apply(get_tumor_site_group, axis=1)"
   ]
  },
  {
   "cell_type": "code",
   "execution_count": 11,
   "id": "dd69b102",
   "metadata": {},
   "outputs": [],
   "source": [
    "# Apply group_tumor_site to each row in merged_df to create a new column 'Tumor_Site_Grouped'\n",
    "def get_tumor_site(row):\n",
    "    # Check each tumor site column for presence (value == 1 or True)\n",
    "    if row.get('TUMOR_SITE_Liver', 0) == 1:\n",
    "        return 'Liver'\n",
    "    elif row.get('TUMOR_SITE_Intra-Abdominal', 0) == 1:\n",
    "        return 'Abdominal'\n",
    "    elif row.get('TUMOR_SITE_Thorax', 0) == 1:\n",
    "        return 'Thorax'\n",
    "    elif row.get('TUMOR_SITE_Bone', 0) == 1:\n",
    "        return 'Skeletal'\n",
    "    elif row.get('TUMOR_SITE_CNS/Brain', 0) == 1:\n",
    "        return 'CNS'\n",
    "    else:\n",
    "        return 'Other'\n",
    "\n",
    "merged_df['Tumor_Site'] = merged_df.apply(get_tumor_site, axis=1)"
   ]
  },
  {
   "cell_type": "code",
   "execution_count": 12,
   "id": "9c9d7b58",
   "metadata": {},
   "outputs": [
    {
     "name": "stdout",
     "output_type": "stream",
     "text": [
      "(array(['CNS', 'Other', 'Skeletal', 'Visceral'], dtype=object), array([  66,  126,  111, 1108]))\n",
      "(array(['Abdominal', 'CNS', 'Liver', 'Other', 'Skeletal', 'Thorax'],\n",
      "      dtype=object), array([234,  66, 222, 126, 111, 652]))\n"
     ]
    }
   ],
   "source": [
    "print(np.unique(merged_df['Tumor_Site_Grouped'], return_counts=True))\n",
    "print(np.unique(merged_df['Tumor_Site'], return_counts=True))"
   ]
  },
  {
   "cell_type": "code",
   "execution_count": 13,
   "id": "7cf6dc3e",
   "metadata": {},
   "outputs": [],
   "source": [
    "def extract_treatments(regimen_series):\n",
    "    # Split by comma, strip whitespace, flatten, and get unique treatments\n",
    "    treatments = set()\n",
    "    for regimens in regimen_series.dropna():\n",
    "        for treatment in regimens.split(','):\n",
    "            treatments.add(treatment.strip().upper())\n",
    "    return sorted(treatments)\n",
    "\n",
    "# Get all unique treatments in both datasets\n",
    "all_treatments = set(extract_treatments(control_df['Regimen'])) | set(extract_treatments(treat_df['Regimen']))"
   ]
  },
  {
   "cell_type": "markdown",
   "id": "7f7cf403",
   "metadata": {},
   "source": [
    "| Group                        | Medications                                                                                                                                                                                                                                                         | Rationale                                   |\n",
    "| ---------------------------- | ------------------------------------------------------------------------------------------------------------------------------------------------------------------------------------------------------------------------------------------------------------------- | ------------------------------------------- |\n",
    "| **1. Chemotherapy**          | `CARBOPLATIN`, `CISPLATIN`, `OXALIPLATIN`, `DOCETAXEL`, `PACLITAXEL`, `NABPACLITAXEL`, `PACLITAXEL PROTEIN-BOUND`, `PEMETREXED`, `PEMETREXED DISODIUM`, `ETOPOSIDE`, `GEMCITABINE`, `GEMCITABINE HYDROCHLORIDE`, `VINORELBINE TARTRATE`, `FLUOROURACIL`, `THIOTEPA` | Classic cytotoxic agents                    |\n",
    "| **2. Targeted Therapy**      | `AFATINIB DIMALEATE`, `ERLOTINIB HYDROCHLORIDE`, `GEFITINIB`, `ICOTINIB`, `OSIMERTINIB`, `CRIZOTINIB`, `ALECTINIB`, `DABRAFENIB`, `TRAMETINIB`, `CABOZANTINIB SMALATE`                                                                                              | EGFR, ALK, BRAF, MEK, MET inhibitors        |\n",
    "| **3. Immunotherapy**         | `PEMBROLIZUMAB`                                                                                                                                                                                                                                                     | Anti–PD-1 checkpoint inhibitor              |\n",
    "| **4. Monoclonal Antibodies** | `CETUXIMAB`, `NECITUMUMAB`, `BEVACIZUMAB`                                                                                                                                                                                                                           | EGFR or VEGF-directed monoclonal antibodies |\n",
    "| **5. Other / Unknown**       | `INVESTIGATIONAL DRUG`, `OTHER ANTINEOPLASTIC`, `OTHER NOS`                                                                                                                                                                                                         | Non-specific or unknown category            |\n",
    "\n",
    "\n",
    "Another question: are there duplicates here? "
   ]
  },
  {
   "cell_type": "code",
   "execution_count": 14,
   "id": "7dd095ba",
   "metadata": {},
   "outputs": [],
   "source": [
    "def group_medication_coarse(med):\n",
    "\n",
    "    # this is wrong because it misses the combinations\n",
    "    med = str(med).upper()\n",
    "    \n",
    "    chemo = {\n",
    "        'CARBOPLATIN', 'CISPLATIN', 'OXALIPLATIN', 'DOCETAXEL',\n",
    "        'PACLITAXEL', 'NABPACLITAXEL', 'PACLITAXEL PROTEIN-BOUND',\n",
    "        'PEMETREXED', 'PEMETREXED DISODIUM', 'ETOPOSIDE', 'GEMCITABINE',\n",
    "        'GEMCITABINE HYDROCHLORIDE', 'VINORELBINE TARTRATE', 'FLUOROURACIL', 'THIOTEPA'\n",
    "    }\n",
    "    \n",
    "    targeted = {\n",
    "        'AFATINIB DIMALEATE', 'ERLOTINIB HYDROCHLORIDE', 'GEFITINIB', 'ICOTINIB',\n",
    "        'OSIMERTINIB', 'CRIZOTINIB', 'ALECTINIB', 'DABRAFENIB',\n",
    "        'TRAMETINIB', 'CABOZANTINIB SMALATE'\n",
    "    }\n",
    "    \n",
    "    immuno = {'PEMBROLIZUMAB'}\n",
    "    \n",
    "    antibodies = {'CETUXIMAB', 'NECITUMUMAB', 'BEVACIZUMAB'}\n",
    "    \n",
    "    other = {'INVESTIGATIONAL DRUG', 'OTHER ANTINEOPLASTIC', 'OTHER NOS'}\n",
    "    \n",
    "\n",
    "    if med in chemo:\n",
    "        return 'Chemotherapy'\n",
    "    elif med in targeted:\n",
    "        return 'Targeted Therapy'\n",
    "    elif med in immuno:\n",
    "        return 'Immunotherapy/Pembro'\n",
    "    elif med in antibodies:\n",
    "        return 'Monoclonal Antibody'\n",
    "    elif med in other:\n",
    "        return 'Other/Unknown'\n",
    "    else:\n",
    "        return 'Unclassified'\n"
   ]
  },
  {
   "cell_type": "code",
   "execution_count": 15,
   "id": "f710ee47",
   "metadata": {},
   "outputs": [],
   "source": [
    "merged_df['Regimen_Grouped'] = merged_df['Regimen'].apply(group_medication_coarse)"
   ]
  },
  {
   "cell_type": "code",
   "execution_count": 16,
   "id": "82533a30",
   "metadata": {},
   "outputs": [],
   "source": [
    "treatments, counts = np.unique(merged_df['Regimen'], return_counts=True)\n",
    "all_treatments = []\n",
    "\n",
    "for treatment in treatments:\n",
    "    substances = treatment.split(',')\n",
    "    for s in substances:\n",
    "        s = s.lower()\n",
    "        s = s.strip(' ')\n",
    "        all_treatments.append(s.lower())\n",
    "\n",
    "all_treatments = list(set(all_treatments))\n",
    "\n",
    "recode = dict()\n",
    "for t in all_treatments:\n",
    "    for t2 in all_treatments:\n",
    "        if t != t2:\n",
    "             if (t2 in t):\n",
    "                recode[t] = t2"
   ]
  },
  {
   "cell_type": "code",
   "execution_count": 17,
   "id": "28e0671a",
   "metadata": {},
   "outputs": [],
   "source": [
    "for i in range(len(all_treatments)):\n",
    "    if all_treatments[i] in recode.keys():\n",
    "        all_treatments[i] = recode[all_treatments[i]]"
   ]
  },
  {
   "cell_type": "code",
   "execution_count": 18,
   "id": "7d63cf63",
   "metadata": {},
   "outputs": [
    {
     "data": {
      "text/plain": [
       "{'gemcitabine hydrochloride': 'gemcitabine',\n",
       " 'nabpaclitaxel': 'paclitaxel',\n",
       " 'paclitaxel protein-bound': 'paclitaxel',\n",
       " 'pemetrexed disodium': 'pemetrexed'}"
      ]
     },
     "execution_count": 18,
     "metadata": {},
     "output_type": "execute_result"
    }
   ],
   "source": [
    "recode"
   ]
  },
  {
   "cell_type": "code",
   "execution_count": 19,
   "id": "4e7ee5f9",
   "metadata": {},
   "outputs": [],
   "source": [
    "regimen = merged_df['Regimen'].copy().to_numpy()\n",
    "cleaned_regimen = []\n",
    "for r in regimen:\n",
    "    substances = r.split(',')\n",
    "    for i in range(len(substances)):\n",
    "        substances[i] = substances[i].strip(' ').lower()\n",
    "        # check if replacement is necessary\n",
    "        if substances[i] in recode.keys():\n",
    "            substances[i] = recode[substances[i]]\n",
    "    substances = list(set(substances))\n",
    "    cleaned_string = ', '.join(substances)\n",
    "    cleaned_regimen.append(cleaned_string)"
   ]
  },
  {
   "cell_type": "code",
   "execution_count": 20,
   "id": "131e8dcd",
   "metadata": {},
   "outputs": [],
   "source": [
    "merged_df['Cleaned_Regimen'] = cleaned_regimen"
   ]
  },
  {
   "cell_type": "code",
   "execution_count": 21,
   "id": "bc29f129",
   "metadata": {},
   "outputs": [
    {
     "name": "stdout",
     "output_type": "stream",
     "text": [
      "CARBOPLATIN, PEMBROLIZUMAB, PEMETREXED 381\n",
      "PEMBROLIZUMAB 288\n",
      "Carboplatin, Pemetrexed Disodium 143\n",
      "Erlotinib Hydrochloride 82\n",
      "Bevacizumab, Carboplatin, Pemetrexed Disodium 63\n",
      "Cisplatin, Pemetrexed Disodium 45\n",
      "CARBOPLATIN, PACLITAXEL, PEMBROLIZUMAB 41\n",
      "Investigational Drug, Investigational Drug 36\n",
      "CISPLATIN, PEMBROLIZUMAB, PEMETREXED 35\n",
      "Bevacizumab, Cisplatin, Pemetrexed Disodium 31\n",
      "CARBOPLATIN, PACLITAXEL PROTEIN-BOUND, PEMBROLIZUMAB 31\n",
      "Investigational Drug 30\n",
      "Carboplatin, Paclitaxel 27\n",
      "Crizotinib 23\n",
      "PEMBROLIZUMAB, PEMETREXED 15\n",
      "Carboplatin, Gemcitabine Hydrochloride 12\n",
      "Bevacizumab, Carboplatin, Paclitaxel 11\n",
      "Afatinib Dimaleate 11\n",
      "Carboplatin, Nabpaclitaxel 9\n",
      "Osimertinib 8\n",
      "Cisplatin, Gemcitabine Hydrochloride 7\n",
      "Gemcitabine Hydrochloride, Vinorelbine Tartrate 4\n",
      "Cisplatin, Docetaxel 4\n",
      "Cisplatin, Investigational Drug, Pemetrexed Disodium 4\n",
      "Cisplatin, Etoposide 4\n",
      "Carboplatin, Docetaxel 3\n",
      "Carboplatin, Investigational Drug, Pemetrexed Disodium 3\n",
      "Pemetrexed Disodium 3\n",
      "Alectinib 3\n",
      "Vinorelbine Tartrate 3\n",
      "Cisplatin, Vinorelbine Tartrate 3\n",
      "Gefitinib 3\n",
      "CARBOPLATIN, PACLITAXEL, PACLITAXEL PROTEIN-BOUND, PEMBROLIZUMAB 2\n",
      "Paclitaxel, Pemetrexed Disodium 2\n",
      "Other antineoplastic 2\n",
      "Dabrafenib, Trametinib 2\n",
      "CARBOPLATIN, CISPLATIN, PEMBROLIZUMAB, PEMETREXED 2\n",
      "Bevacizumab, Paclitaxel, Pemetrexed Disodium 2\n",
      "Carboplatin, Etoposide 2\n",
      "Bevacizumab, Nabpaclitaxel, Pemetrexed Disodium 1\n",
      "CARBOPLATIN, DABRAFENIB, PEMBROLIZUMAB, PEMETREXED, TRAMETINIB 1\n",
      "CARBOPLATIN, CRIZOTINIB, PEMBROLIZUMAB, PEMETREXED 1\n",
      "Bevacizumab, Pemetrexed Disodium 1\n",
      "Cisplatin, Gemcitabine Hydrochloride, Necitumumab 1\n",
      "Bevacizumab, Icotinib, Other antineoplastic, Pemetrexed Disodium 1\n",
      "Gemcitabine Hydrochloride, Nabpaclitaxel 1\n",
      "Gemcitabine Hydrochloride, Pemetrexed Disodium 1\n",
      "Investigational Drug, Investigational Drug, Investigational Drug 1\n",
      "Other NOS 1\n",
      "BEVACIZUMAB, CARBOPLATIN, PEMBROLIZUMAB, PEMETREXED 1\n",
      "Alectinib, Bevacizumab 1\n",
      "Bevacizumab, Erlotinib Hydrochloride 1\n",
      "Gemcitabine Hydrochloride, Investigational Drug 1\n",
      "CARBOPLATIN, PACLITAXEL PROTEIN-BOUND, PEMBROLIZUMAB, PEMETREXED 1\n",
      "Carboplatin, Gemcitabine Hydrochloride, Paclitaxel 1\n",
      "Cetuximab, Cisplatin, Gemcitabine Hydrochloride 1\n",
      "DABRAFENIB, PEMBROLIZUMAB 1\n",
      "Docetaxel 1\n",
      "Carboplatin, Investigational Drug, Paclitaxel 1\n",
      "Carboplatin, Investigational Drug, Investigational Drug, Pemetrexed Disodium 1\n",
      "Carboplatin, Investigational Drug 1\n",
      "FLUOROURACIL, OXALIPLATIN, PEMBROLIZUMAB 1\n",
      "Cisplatin, Paclitaxel 1\n",
      "GEMCITABINE, PEMBROLIZUMAB, PEMETREXED 1\n",
      "Carboplatin, Crizotinib, Paclitaxel 1\n",
      "Cabozantinib Smalate 1\n",
      "CARBOPLATIN, PEMBROLIZUMAB, PEMETREXED, TRAMETINIB 1\n",
      "Gefitinib, Osimertinib 1\n",
      "CARBOPLATIN, PEMBROLIZUMAB 1\n"
     ]
    }
   ],
   "source": [
    "sorted_indices = np.argsort(counts)\n",
    "for i in range (len(sorted_indices) - 1, 0, -1):\n",
    "    idx = sorted_indices[i]\n",
    "    print(treatments[idx], counts[idx])"
   ]
  },
  {
   "cell_type": "code",
   "execution_count": 22,
   "id": "c0f41e20",
   "metadata": {},
   "outputs": [
    {
     "name": "stdout",
     "output_type": "stream",
     "text": [
      "15 carboplatin, pemetrexed, pembrolizumab 381\n",
      "51 pembrolizumab 288\n",
      "13 carboplatin, pemetrexed 143\n",
      "33 erlotinib hydrochloride 82\n",
      "12 carboplatin, pembrolizumab, paclitaxel 74\n",
      "43 investigational drug 67\n",
      "14 carboplatin, pemetrexed, bevacizumab 63\n",
      "25 cisplatin, pemetrexed 45\n",
      "10 carboplatin, paclitaxel 36\n",
      "28 cisplatin, pemetrexed, pembrolizumab 35\n",
      "26 cisplatin, pemetrexed, bevacizumab 31\n",
      "30 crizotinib 23\n",
      "58 pemetrexed, pembrolizumab 15\n",
      "37 gemcitabine, carboplatin 12\n",
      "49 paclitaxel, carboplatin, bevacizumab 11\n",
      "0 afatinib dimaleate 11\n",
      "44 osimertinib 8\n",
      "21 cisplatin, gemcitabine 7\n",
      "27 cisplatin, pemetrexed, investigational drug 4\n",
      "20 cisplatin, etoposide 4\n",
      "19 cisplatin, docetaxel 4\n",
      "9 carboplatin, investigational drug, pemetrexed 4\n",
      "62 vinorelbine tartrate, gemcitabine 4\n",
      "1 alectinib 3\n",
      "36 gefitinib 3\n",
      "55 pemetrexed 3\n",
      "5 carboplatin, docetaxel 3\n",
      "61 vinorelbine tartrate 3\n",
      "29 cisplatin, vinorelbine tartrate 3\n",
      "50 paclitaxel, pemetrexed, bevacizumab 3\n",
      "18 cisplatin, carboplatin, pemetrexed, pembrolizumab 2\n",
      "6 carboplatin, etoposide 2\n",
      "46 other antineoplastic 2\n",
      "57 pemetrexed, paclitaxel 2\n",
      "60 trametinib, dabrafenib 2\n",
      "39 gemcitabine, investigational drug 1\n",
      "11 carboplatin, pembrolizumab 1\n",
      "56 pemetrexed, bevacizumab 1\n",
      "7 carboplatin, investigational drug 1\n",
      "59 trametinib, carboplatin, pemetrexed, pembrolizumab 1\n",
      "8 carboplatin, investigational drug, paclitaxel 1\n",
      "16 carboplatin, pemetrexed, pembrolizumab, bevacizumab 1\n",
      "4 carboplatin, crizotinib, paclitaxel 1\n",
      "3 cabozantinib smalate 1\n",
      "2 alectinib, bevacizumab 1\n",
      "54 pembrolizumab, paclitaxel, carboplatin, alectinib, thiotepa 1\n",
      "53 pembrolizumab, carboplatin, pemetrexed, crizotinib 1\n",
      "17 carboplatin, pemetrexed, pembrolizumab, paclitaxel 1\n",
      "38 gemcitabine, carboplatin, paclitaxel 1\n",
      "52 pembrolizumab, carboplatin, dabrafenib, trametinib, pemetrexed 1\n",
      "22 cisplatin, gemcitabine, cetuximab 1\n",
      "23 cisplatin, gemcitabine, necitumumab 1\n",
      "24 cisplatin, paclitaxel 1\n",
      "48 other nos 1\n",
      "47 other antineoplastic, pemetrexed, icotinib, bevacizumab 1\n",
      "45 osimertinib, gefitinib 1\n",
      "42 gemcitabine, pemetrexed, pembrolizumab 1\n",
      "32 docetaxel 1\n",
      "41 gemcitabine, pemetrexed 1\n",
      "34 erlotinib hydrochloride, bevacizumab 1\n",
      "35 fluorouracil, pembrolizumab, oxaliplatin 1\n",
      "40 gemcitabine, paclitaxel 1\n"
     ]
    }
   ],
   "source": [
    "cleaned_treat, cleaned_counts = np.unique(merged_df['Cleaned_Regimen'], return_counts=True)\n",
    "sorted_cleaned_indices = np.argsort(cleaned_counts)\n",
    "for i in range (len(sorted_cleaned_indices) - 1, 0, -1):\n",
    "    idx = sorted_cleaned_indices[i]\n",
    "    print(idx, cleaned_treat[idx], cleaned_counts[idx])"
   ]
  },
  {
   "cell_type": "code",
   "execution_count": 29,
   "id": "c4d53d21",
   "metadata": {},
   "outputs": [],
   "source": [
    "vals_to_drop = []\n",
    "for i in range(len(cleaned_treat) - 6, 0, -1):\n",
    "    vals_to_drop.append(cleaned_treat[sorted_cleaned_indices[i]])"
   ]
  },
  {
   "cell_type": "code",
   "execution_count": 30,
   "id": "b3947bc7",
   "metadata": {},
   "outputs": [
    {
     "data": {
      "text/plain": [
       "0       False\n",
       "1       False\n",
       "2       False\n",
       "3       False\n",
       "4        True\n",
       "        ...  \n",
       "1406    False\n",
       "1407    False\n",
       "1408    False\n",
       "1409    False\n",
       "1410    False\n",
       "Name: Cleaned_Regimen, Length: 1411, dtype: bool"
      ]
     },
     "execution_count": 30,
     "metadata": {},
     "output_type": "execute_result"
    }
   ],
   "source": [
    "merged_df['Cleaned_Regimen'].isin(vals_to_drop)"
   ]
  },
  {
   "cell_type": "code",
   "execution_count": 34,
   "id": "a1829afc",
   "metadata": {},
   "outputs": [],
   "source": [
    "reduced_merged_df = merged_df[~merged_df['Cleaned_Regimen'].isin(vals_to_drop)].copy()"
   ]
  },
  {
   "cell_type": "code",
   "execution_count": 35,
   "id": "de5e09ee",
   "metadata": {},
   "outputs": [
    {
     "data": {
      "text/plain": [
       "array(['carboplatin, pembrolizumab, paclitaxel',\n",
       "       'carboplatin, pemetrexed',\n",
       "       'carboplatin, pemetrexed, pembrolizumab',\n",
       "       'dabrafenib, pembrolizumab', 'erlotinib hydrochloride',\n",
       "       'pembrolizumab'], dtype=object)"
      ]
     },
     "execution_count": 35,
     "metadata": {},
     "output_type": "execute_result"
    }
   ],
   "source": [
    "np.unique(reduced_merged_df['Cleaned_Regimen'])"
   ]
  },
  {
   "cell_type": "code",
   "execution_count": 36,
   "id": "855c32bc",
   "metadata": {},
   "outputs": [],
   "source": [
    "race_replacement = {'asian-far east/indian subcont': 'POC', \n",
    "                    'american indian, aleutian, or eskimo': 'POC', \n",
    "                    'asian-far east/indian subcont': 'POC',\n",
    "                    'chinese': 'POC',\n",
    "                     'native hawaiian or pacific isl':'POC',\n",
    "                     'no value entered': 'NA',\n",
    "                     'other': 'NA',\n",
    "                     'other asian': 'POC',\n",
    "                     'pt refused to answer': 'NA',\n",
    "                     'black': 'POC',\n",
    "                     'black or african american': 'POC',\n",
    "                     'unknown': 'NA'}\n",
    "\n",
    "reduced_merged_df['Grouped_Race'] = reduced_merged_df['Race'].copy()\n",
    "reduced_merged_df['Grouped_Race'] = [r.lower() for r in reduced_merged_df['Race']]\n",
    "reduced_merged_df['Grouped_Race'] = reduced_merged_df['Grouped_Race'].replace(race_replacement)"
   ]
  },
  {
   "cell_type": "code",
   "execution_count": 37,
   "id": "633bd549",
   "metadata": {},
   "outputs": [
    {
     "name": "stdout",
     "output_type": "stream",
     "text": [
      "(array(['ASIAN-FAR EAST/INDIAN SUBCONT', 'BLACK OR AFRICAN AMERICAN',\n",
      "       'Black', 'Chinese', 'NATIVE HAWAIIAN OR PACIFIC ISL', 'OTHER',\n",
      "       'Other', 'Other Asian', 'PT REFUSED TO ANSWER', 'UNKNOWN',\n",
      "       'Unknown', 'WHITE', 'White'], dtype=object), array([ 57,  40,  12,  13,   1,  21,   5,  11,   8,  13,   8, 604, 176]))\n",
      "(array(['NA', 'POC', 'white'], dtype=object), array([ 55, 134, 780]))\n"
     ]
    }
   ],
   "source": [
    "print(np.unique(reduced_merged_df['Race'], return_counts=True))\n",
    "print(np.unique(reduced_merged_df['Grouped_Race'], return_counts=True))\n",
    "\n"
   ]
  },
  {
   "cell_type": "code",
   "execution_count": 39,
   "id": "212be2ac",
   "metadata": {},
   "outputs": [],
   "source": [
    "reduced_merged_df['Sex'] = [s.lower() for s in reduced_merged_df['Sex']]"
   ]
  },
  {
   "cell_type": "code",
   "execution_count": 41,
   "id": "6415bb2d",
   "metadata": {},
   "outputs": [
    {
     "name": "stderr",
     "output_type": "stream",
     "text": [
      "/opt/anaconda3/envs/tigramite/lib/python3.10/site-packages/sklearn/linear_model/_linear_loss.py:203: RuntimeWarning: divide by zero encountered in matmul\n",
      "  raw_prediction = X @ weights.T + intercept  # ndarray, likely C-contiguous\n",
      "/opt/anaconda3/envs/tigramite/lib/python3.10/site-packages/sklearn/linear_model/_linear_loss.py:203: RuntimeWarning: overflow encountered in matmul\n",
      "  raw_prediction = X @ weights.T + intercept  # ndarray, likely C-contiguous\n",
      "/opt/anaconda3/envs/tigramite/lib/python3.10/site-packages/sklearn/linear_model/_linear_loss.py:203: RuntimeWarning: invalid value encountered in matmul\n",
      "  raw_prediction = X @ weights.T + intercept  # ndarray, likely C-contiguous\n",
      "/opt/anaconda3/envs/tigramite/lib/python3.10/site-packages/sklearn/linear_model/_linear_loss.py:336: RuntimeWarning: divide by zero encountered in matmul\n",
      "  grad[:, :n_features] = grad_pointwise.T @ X + l2_reg_strength * weights\n",
      "/opt/anaconda3/envs/tigramite/lib/python3.10/site-packages/sklearn/linear_model/_linear_loss.py:336: RuntimeWarning: overflow encountered in matmul\n",
      "  grad[:, :n_features] = grad_pointwise.T @ X + l2_reg_strength * weights\n",
      "/opt/anaconda3/envs/tigramite/lib/python3.10/site-packages/sklearn/linear_model/_linear_loss.py:336: RuntimeWarning: invalid value encountered in matmul\n",
      "  grad[:, :n_features] = grad_pointwise.T @ X + l2_reg_strength * weights\n",
      "/opt/anaconda3/envs/tigramite/lib/python3.10/site-packages/sklearn/utils/extmath.py:203: RuntimeWarning: divide by zero encountered in matmul\n",
      "  ret = a @ b\n",
      "/opt/anaconda3/envs/tigramite/lib/python3.10/site-packages/sklearn/utils/extmath.py:203: RuntimeWarning: overflow encountered in matmul\n",
      "  ret = a @ b\n",
      "/opt/anaconda3/envs/tigramite/lib/python3.10/site-packages/sklearn/utils/extmath.py:203: RuntimeWarning: invalid value encountered in matmul\n",
      "  ret = a @ b\n"
     ]
    }
   ],
   "source": [
    "\n",
    "# Step 1: Define covariates and treatment\n",
    "covariate_cols = ['Current Age', 'Sex', 'Grouped_Race'] \n",
    "categorical_cols = ['Sex', 'Grouped_Race']  # columns to one-hot encode\n",
    "numeric_cols = list(set(covariate_cols) - set(categorical_cols))\n",
    "\n",
    "X = reduced_merged_df[covariate_cols]\n",
    "T = reduced_merged_df['Cleaned_Regimen']\n",
    "\n",
    "# Step 2: Create preprocessing pipeline\n",
    "preprocessor = ColumnTransformer(\n",
    "    transformers=[\n",
    "        ('cat', OneHotEncoder(drop='first'), categorical_cols),\n",
    "        ('num', 'passthrough', numeric_cols)\n",
    "    ]\n",
    ")\n",
    "\n",
    "# Step 3: Fit logistic regression pipeline\n",
    "pipeline = Pipeline(steps=[\n",
    "    ('preprocessor', preprocessor),\n",
    "    ('logreg', LogisticRegression(max_iter=1000))\n",
    "])\n",
    "\n",
    "pipeline.fit(X, T)\n",
    "\n",
    "# Step 4: Predict propensity scores\n",
    "reduced_merged_df['propensity_score'] = pipeline.predict_proba(X)[:, 1]"
   ]
  },
  {
   "cell_type": "code",
   "execution_count": 43,
   "id": "03a0c145",
   "metadata": {},
   "outputs": [
    {
     "data": {
      "text/plain": [
       "606     0.286627\n",
       "646     0.138494\n",
       "667     0.166162\n",
       "668     0.317030\n",
       "675     0.178680\n",
       "          ...   \n",
       "1406    0.159822\n",
       "1407    0.280873\n",
       "1408    0.111771\n",
       "1409    0.108230\n",
       "1410    0.131781\n",
       "Name: propensity_score, Length: 381, dtype: float64"
      ]
     },
     "execution_count": 43,
     "metadata": {},
     "output_type": "execute_result"
    }
   ],
   "source": [
    "reduced_merged_df[reduced_merged_df['Cleaned_Regimen'] == 'carboplatin, pemetrexed, pembrolizumab']['propensity_score']"
   ]
  },
  {
   "cell_type": "code",
   "execution_count": 44,
   "id": "38a799cd",
   "metadata": {},
   "outputs": [
    {
     "data": {
      "image/png": "[encoded data removed]",
      "text/plain": [
       "<Figure size 640x480 with 1 Axes>"
      ]
     },
     "metadata": {},
     "output_type": "display_data"
    }
   ],
   "source": [
    "import matplotlib.pyplot as plt\n",
    "import seaborn as sns\n",
    "\n",
    "sns.histplot(reduced_merged_df[reduced_merged_df['Cleaned_Regimen'] == 'carboplatin, pemetrexed, pembrolizumab']['propensity_score'], color='blue', label='CP + Pembro', kde=True)\n",
    "sns.histplot(reduced_merged_df[reduced_merged_df['Cleaned_Regimen'] == 'carboplatin, pemetrexed']['propensity_score'], color='red', label='CP', kde=True)\n",
    "plt.title(\"Propensity Score Distribution by Treatment Group\")\n",
    "plt.xlabel(\"Propensity Score\")\n",
    "plt.ylabel(\"Count\")\n",
    "plt.legend()\n",
    "plt.show()\n"
   ]
  }
 ],
 "metadata": {
  "kernelspec": {
   "display_name": "tigramite",
   "language": "python",
   "name": "python3"
  },
  "language_info": {
   "codemirror_mode": {
    "name": "ipython",
    "version": 3
   },
   "file_extension": ".py",
   "mimetype": "text/x-python",
   "name": "python",
   "nbconvert_exporter": "python",
   "pygments_lexer": "ipython3",
   "version": "3.10.16"
  }
 },
 "nbformat": 4,
 "nbformat_minor": 5
}
